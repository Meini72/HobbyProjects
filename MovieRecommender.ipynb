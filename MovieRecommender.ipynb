{
 "cells": [
  {
   "cell_type": "markdown",
   "metadata": {},
   "source": [
    "# Movie Recommender"
   ]
  },
  {
   "cell_type": "markdown",
   "metadata": {},
   "source": [
    "We will implement the collaborative filtering learning algorithm and apply it to a dataset of movie ratings. This dataset\n",
    "consists of ratings on a scale of 1 to 5. The dataset has nu = 943 users, and nm = 1682 movies.<br /><br />\n",
    "The objective of collaborative filtering is to predict movie ratings for the movies that users have not yet rated, that is, the entries with R(i,j) = 0. This will allow us to recommend the movies with the highest predicted ratings to the user."
   ]
  },
  {
   "cell_type": "code",
   "execution_count": 1,
   "metadata": {
    "collapsed": true
   },
   "outputs": [],
   "source": [
    "%matplotlib inline\n",
    "import numpy as np\n",
    "import matplotlib.pyplot as plt\n",
    "import scipy.io\n",
    "import scipy.optimize"
   ]
  },
  {
   "cell_type": "code",
   "execution_count": 2,
   "metadata": {
    "collapsed": true
   },
   "outputs": [],
   "source": [
    "datafile = 'data/ex8_movies.mat'\n",
    "data = scipy.io.loadmat(datafile)"
   ]
  },
  {
   "cell_type": "code",
   "execution_count": 3,
   "metadata": {
    "collapsed": false
   },
   "outputs": [
    {
     "data": {
      "text/plain": [
       "dict_keys(['__globals__', 'Y', '__header__', '__version__', 'R'])"
      ]
     },
     "execution_count": 3,
     "metadata": {},
     "output_type": "execute_result"
    }
   ],
   "source": [
    "data.keys()"
   ]
  },
  {
   "cell_type": "code",
   "execution_count": 4,
   "metadata": {
    "collapsed": true
   },
   "outputs": [],
   "source": [
    "Y = data['Y']\n",
    "R = data['R']"
   ]
  },
  {
   "cell_type": "code",
   "execution_count": 5,
   "metadata": {
    "collapsed": false
   },
   "outputs": [
    {
     "data": {
      "text/plain": [
       "(1682, 943)"
      ]
     },
     "execution_count": 5,
     "metadata": {},
     "output_type": "execute_result"
    }
   ],
   "source": [
    "Y.shape"
   ]
  },
  {
   "cell_type": "code",
   "execution_count": 6,
   "metadata": {
    "collapsed": false
   },
   "outputs": [
    {
     "data": {
      "text/plain": [
       "(1682, 943)"
      ]
     },
     "execution_count": 6,
     "metadata": {},
     "output_type": "execute_result"
    }
   ],
   "source": [
    "R.shape"
   ]
  },
  {
   "cell_type": "code",
   "execution_count": 7,
   "metadata": {
    "collapsed": true
   },
   "outputs": [],
   "source": [
    "# nm = 1682; nu = 943\n",
    "n = 100 # the number of features\n",
    "# X is nm*n matrix; theta is nu*n matrix"
   ]
  },
  {
   "cell_type": "markdown",
   "metadata": {},
   "source": [
    "The model predicts the rating for **movie i** by **user j** as: <br />** y<sup>(i,j)</sup> = (\\theta<sup>(j)</sup>)<sup>T</sup>x<sup>(i)</sup> **<br \\><br \\>\n",
    "In order to use an on-the-shelf minimizer such as fmin_cg, the cost function has been set up to unroll the parameters into a single vector params."
   ]
  },
  {
   "cell_type": "code",
   "execution_count": 8,
   "metadata": {
    "collapsed": true
   },
   "outputs": [],
   "source": [
    "def unroll(X, theta):\n",
    "    return np.concatenate((X.flatten(), theta.flatten()))"
   ]
  },
  {
   "cell_type": "code",
   "execution_count": 9,
   "metadata": {
    "collapsed": true
   },
   "outputs": [],
   "source": [
    "def reshape(Xtheta, nm, nu, n):\n",
    "    X = Xtheta[:nm*n].reshape((nm,n))\n",
    "    theta = Xtheta[-nu*n:].reshape((nu,n))\n",
    "    return X, theta"
   ]
  },
  {
   "cell_type": "code",
   "execution_count": 10,
   "metadata": {
    "collapsed": true
   },
   "outputs": [],
   "source": [
    "datafile = 'data/ex8_movieParams.mat'\n",
    "data = scipy.io.loadmat(datafile)"
   ]
  },
  {
   "cell_type": "code",
   "execution_count": 11,
   "metadata": {
    "collapsed": false
   },
   "outputs": [
    {
     "data": {
      "text/plain": [
       "dict_keys(['Theta', '__globals__', 'num_users', 'num_features', 'num_movies', 'X', '__header__', '__version__'])"
      ]
     },
     "execution_count": 11,
     "metadata": {},
     "output_type": "execute_result"
    }
   ],
   "source": [
    "data.keys()"
   ]
  },
  {
   "cell_type": "code",
   "execution_count": 12,
   "metadata": {
    "collapsed": true
   },
   "outputs": [],
   "source": [
    "X = data['X']\n",
    "theta = data['Theta']\n",
    "nu = int(data['num_users'])\n",
    "nm = int(data['num_movies'])\n",
    "nf = int(data['num_features'])"
   ]
  },
  {
   "cell_type": "code",
   "execution_count": 13,
   "metadata": {
    "collapsed": true
   },
   "outputs": [],
   "source": [
    "# for testing the correctness of the code\n",
    "nu = 4; nm = 5; n = 3\n",
    "X = X[:nm,:n]\n",
    "theta = theta[:nu,:n]\n",
    "Y = Y[:nm,:nu]\n",
    "R = R[:nm,:nu]"
   ]
  },
  {
   "cell_type": "markdown",
   "metadata": {},
   "source": [
    "### 1. Cost Function"
   ]
  },
  {
   "cell_type": "code",
   "execution_count": 14,
   "metadata": {
    "collapsed": false
   },
   "outputs": [],
   "source": [
    "def cost(Xtheta, Y, R, nu, nm, n, reg):\n",
    "    X, theta = reshape(Xtheta, nm, nu, n)\n",
    "    J = 0.5*np.sum(np.power(np.multiply(X.dot(theta.T), R)-Y,2))\n",
    "    J = J+0.5*reg*np.sum(np.multiply(theta,theta))+0.5*reg*np.sum(np.multiply(X,X))\n",
    "    return J"
   ]
  },
  {
   "cell_type": "code",
   "execution_count": 15,
   "metadata": {
    "collapsed": false
   },
   "outputs": [],
   "source": [
    "# To test the correctness using small dataset\n",
    "Xtheta = unroll(X, theta)\n",
    "J = cost(Xtheta, Y, R, nu, nm, n, 0)"
   ]
  },
  {
   "cell_type": "code",
   "execution_count": 16,
   "metadata": {
    "collapsed": false
   },
   "outputs": [
    {
     "data": {
      "text/plain": [
       "22.224603725685675"
      ]
     },
     "execution_count": 16,
     "metadata": {},
     "output_type": "execute_result"
    }
   ],
   "source": [
    "J"
   ]
  },
  {
   "cell_type": "code",
   "execution_count": 17,
   "metadata": {
    "collapsed": true
   },
   "outputs": [],
   "source": [
    "J = cost(Xtheta, Y, R, nu, nm, n, 1.5)"
   ]
  },
  {
   "cell_type": "code",
   "execution_count": 18,
   "metadata": {
    "collapsed": false
   },
   "outputs": [
    {
     "data": {
      "text/plain": [
       "31.344056244274221"
      ]
     },
     "execution_count": 18,
     "metadata": {},
     "output_type": "execute_result"
    }
   ],
   "source": [
    "J"
   ]
  },
  {
   "cell_type": "markdown",
   "metadata": {},
   "source": [
    "### 2. Gradient"
   ]
  },
  {
   "cell_type": "code",
   "execution_count": 19,
   "metadata": {
    "collapsed": true
   },
   "outputs": [],
   "source": [
    "def gradient(Xtheta, Y, R, nu, nm, n, reg=0):\n",
    "    X, theta = reshape(Xtheta, nm, nu, n)\n",
    "    gradientX = (np.multiply(X.dot(theta.T), R)-Y).dot(theta)\n",
    "    gradientTheta = ((np.multiply(X.dot(theta.T), R)-Y).T).dot(X)\n",
    "    gradientX = gradientX+reg*X\n",
    "    gradientTheta = gradientTheta+reg*theta\n",
    "    return unroll(gradientX, gradientTheta)"
   ]
  },
  {
   "cell_type": "markdown",
   "metadata": {},
   "source": [
    "### 3. Rate the Movies\n",
    "    "
   ]
  },
  {
   "cell_type": "code",
   "execution_count": 20,
   "metadata": {
    "collapsed": true
   },
   "outputs": [],
   "source": [
    "movies = []\n",
    "with open('data/movie_ids.txt') as f:\n",
    "    for line in f:\n",
    "        namelst = line.split(' ')\n",
    "        name = ' '.join(namelst[1:])\n",
    "        movies.append(name)\n",
    "\n",
    "# Here we use the sample ratings to test the correctness of the code\n",
    "# The rating can be modified for fun!\n",
    "my_ratings = np.zeros((1682,1))\n",
    "my_ratings[0]   = 4\n",
    "my_ratings[97]  = 2\n",
    "my_ratings[6]   = 3\n",
    "my_ratings[11]  = 5\n",
    "my_ratings[53]  = 4\n",
    "my_ratings[63]  = 5\n",
    "my_ratings[65]  = 3\n",
    "my_ratings[68]  = 5\n",
    "my_ratings[182] = 4\n",
    "my_ratings[225] = 5\n",
    "my_ratings[354] = 5"
   ]
  },
  {
   "cell_type": "code",
   "execution_count": 21,
   "metadata": {
    "collapsed": true
   },
   "outputs": [],
   "source": [
    "datafile = 'data/ex8_movies.mat'\n",
    "data = scipy.io.loadmat(datafile)"
   ]
  },
  {
   "cell_type": "code",
   "execution_count": 22,
   "metadata": {
    "collapsed": false
   },
   "outputs": [
    {
     "data": {
      "text/plain": [
       "dict_keys(['__globals__', 'Y', '__header__', '__version__', 'R'])"
      ]
     },
     "execution_count": 22,
     "metadata": {},
     "output_type": "execute_result"
    }
   ],
   "source": [
    "data.keys()"
   ]
  },
  {
   "cell_type": "code",
   "execution_count": 23,
   "metadata": {
    "collapsed": true
   },
   "outputs": [],
   "source": [
    "R = data['R']\n",
    "Y = data['Y']"
   ]
  },
  {
   "cell_type": "code",
   "execution_count": 24,
   "metadata": {
    "collapsed": true
   },
   "outputs": [],
   "source": [
    "# add my ratings into the matrix Y and R\n",
    "my_ratings_R = my_ratings>0\n",
    "Y = np.c_[Y, my_ratings]\n",
    "R = np.c_[R, my_ratings_R]"
   ]
  },
  {
   "cell_type": "code",
   "execution_count": 25,
   "metadata": {
    "collapsed": false
   },
   "outputs": [
    {
     "data": {
      "text/plain": [
       "(1682, 944)"
      ]
     },
     "execution_count": 25,
     "metadata": {},
     "output_type": "execute_result"
    }
   ],
   "source": [
    "Y.shape"
   ]
  },
  {
   "cell_type": "code",
   "execution_count": 26,
   "metadata": {
    "collapsed": false
   },
   "outputs": [
    {
     "data": {
      "text/plain": [
       "(1682, 944)"
      ]
     },
     "execution_count": 26,
     "metadata": {},
     "output_type": "execute_result"
    }
   ],
   "source": [
    "R.shape"
   ]
  },
  {
   "cell_type": "code",
   "execution_count": 27,
   "metadata": {
    "collapsed": true
   },
   "outputs": [],
   "source": [
    "def meanNormalization(Y, R):\n",
    "    mean_movie = np.sum(Y, axis=1)/np.sum(R, axis=1)\n",
    "    mean_movie = mean_movie.reshape((Y.shape[0],1))\n",
    "    return Y-mean_movie, mean_movie"
   ]
  },
  {
   "cell_type": "code",
   "execution_count": 28,
   "metadata": {
    "collapsed": true
   },
   "outputs": [],
   "source": [
    "Y_norm, mean_movie = meanNormalization(Y, R)"
   ]
  },
  {
   "cell_type": "markdown",
   "metadata": {},
   "source": [
    "### 4. Recommendation"
   ]
  },
  {
   "cell_type": "code",
   "execution_count": 29,
   "metadata": {
    "collapsed": true
   },
   "outputs": [],
   "source": [
    "nm = Y.shape[0]\n",
    "nu = Y.shape[1]\n",
    "n = 10"
   ]
  },
  {
   "cell_type": "code",
   "execution_count": 30,
   "metadata": {
    "collapsed": true
   },
   "outputs": [],
   "source": [
    "# Random initial values for X and theta\n",
    "X = np.random.rand(nm,n)\n",
    "theta = np.random.rand(nu,n)\n",
    "Xtheta = unroll(X, theta)"
   ]
  },
  {
   "cell_type": "code",
   "execution_count": 31,
   "metadata": {
    "collapsed": false
   },
   "outputs": [
    {
     "name": "stdout",
     "output_type": "stream",
     "text": [
      "Warning: Maximum number of iterations has been exceeded.\n",
      "         Current function value: 72848.319175\n",
      "         Iterations: 50\n",
      "         Function evaluations: 81\n",
      "         Gradient evaluations: 81\n"
     ]
    }
   ],
   "source": [
    "reg = 10\n",
    "recommendation = scipy.optimize.fmin_cg(cost, x0=Xtheta, fprime=gradient, args=(Y, R, nu, nm, n, reg), maxiter=50,disp=True,full_output=True)"
   ]
  },
  {
   "cell_type": "code",
   "execution_count": 32,
   "metadata": {
    "collapsed": true
   },
   "outputs": [],
   "source": [
    "X, theta = reshape(recommendation[0], nm, nu, n)"
   ]
  },
  {
   "cell_type": "code",
   "execution_count": 33,
   "metadata": {
    "collapsed": false
   },
   "outputs": [],
   "source": [
    "p = X.dot(theta.T)"
   ]
  },
  {
   "cell_type": "code",
   "execution_count": 34,
   "metadata": {
    "collapsed": false
   },
   "outputs": [
    {
     "data": {
      "text/plain": [
       "(1682, 944)"
      ]
     },
     "execution_count": 34,
     "metadata": {},
     "output_type": "execute_result"
    }
   ],
   "source": [
    "p.shape"
   ]
  },
  {
   "cell_type": "code",
   "execution_count": 35,
   "metadata": {
    "collapsed": true
   },
   "outputs": [],
   "source": [
    "my_res = p[:,-1]+mean_movie.flatten()"
   ]
  },
  {
   "cell_type": "code",
   "execution_count": 36,
   "metadata": {
    "collapsed": false
   },
   "outputs": [],
   "source": [
    "my_res_idx = np.argsort(-my_res)"
   ]
  },
  {
   "cell_type": "code",
   "execution_count": 37,
   "metadata": {
    "collapsed": false
   },
   "outputs": [
    {
     "name": "stdout",
     "output_type": "stream",
     "text": [
      "The Top 10 movies recommended for you:\t\n",
      "1 Titanic (1997)\n",
      " score: 8.367244\n",
      "2 Shawshank Redemption, The (1994)\n",
      " score: 8.347072\n",
      "3 Schindler's List (1993)\n",
      " score: 8.333890\n",
      "4 Star Wars (1977)\n",
      " score: 8.301666\n",
      "5 Raiders of the Lost Ark (1981)\n",
      " score: 8.136483\n",
      "6 Good Will Hunting (1997)\n",
      " score: 8.070331\n",
      "7 Usual Suspects, The (1995)\n",
      " score: 7.993570\n",
      "8 Braveheart (1995)\n",
      " score: 7.980482\n",
      "9 Empire Strikes Back, The (1980)\n",
      " score: 7.955492\n",
      "10 Casablanca (1942)\n",
      " score: 7.914373\n"
     ]
    }
   ],
   "source": [
    "print (\"The Top 10 movies recommended for you:\\t\")\n",
    "for i in range(10):\n",
    "    print (\"%d %s score: %f\" %(i+1, movies[my_res_idx[i]], my_res[my_res_idx[i]]))"
   ]
  },
  {
   "cell_type": "code",
   "execution_count": 38,
   "metadata": {
    "collapsed": false
   },
   "outputs": [
    {
     "data": {
      "text/plain": [
       "array([ 312,   63,  317, ..., 1556, 1492,  829], dtype=int64)"
      ]
     },
     "execution_count": 38,
     "metadata": {},
     "output_type": "execute_result"
    }
   ],
   "source": [
    "my_res_idx"
   ]
  },
  {
   "cell_type": "code",
   "execution_count": null,
   "metadata": {
    "collapsed": true
   },
   "outputs": [],
   "source": []
  }
 ],
 "metadata": {
  "anaconda-cloud": {},
  "kernelspec": {
   "display_name": "Python [default]",
   "language": "python",
   "name": "python3"
  },
  "language_info": {
   "codemirror_mode": {
    "name": "ipython",
    "version": 3
   },
   "file_extension": ".py",
   "mimetype": "text/x-python",
   "name": "python",
   "nbconvert_exporter": "python",
   "pygments_lexer": "ipython3",
   "version": "3.5.2"
  }
 },
 "nbformat": 4,
 "nbformat_minor": 1
}
